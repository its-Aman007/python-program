{
 "cells": [
  {
   "cell_type": "code",
   "execution_count": 1,
   "id": "cd1acca1",
   "metadata": {},
   "outputs": [],
   "source": [
    "import pandas as pd\n",
    "\n",
    "# Load the data with explicit encoding\n",
    "data = pd.read_csv(\"data.csv\", encoding=\"ISO-8859-1\")\n",
    "\n",
    "# Drop rows with missing values\n",
    "data.dropna(inplace=True)\n",
    "\n",
    "# Convert 'InvoiceDate' to datetime format\n",
    "data['InvoiceDate'] = pd.to_datetime(data['InvoiceDate'])\n",
    "\n",
    "# Extracting relevant features for clustering\n",
    "X = data[['Quantity', 'UnitPrice']]\n",
    "\n",
    "# Scaling the features\n",
    "from sklearn.preprocessing import StandardScaler\n",
    "\n",
    "scaler = StandardScaler()\n",
    "X_scaled = scaler.fit_transform(X)\n"
   ]
  },
  {
   "cell_type": "code",
   "execution_count": 2,
   "id": "fe5399b6",
   "metadata": {},
   "outputs": [],
   "source": [
    "from sklearn.cluster import KMeans, AgglomerativeClustering\n",
    "from sklearn.metrics import silhouette_score\n",
    "\n",
    "# Define a function to calculate silhouette score for k-means clustering\n",
    "def kmeans_silhouette_score(X, n_clusters):\n",
    "    kmeans = KMeans(n_clusters=n_clusters, random_state=42)\n",
    "    cluster_labels = kmeans.fit_predict(X)\n",
    "    silhouette_avg = silhouette_score(X, cluster_labels)\n",
    "    return silhouette_avg\n",
    "\n",
    "# Define a function to calculate silhouette score for hierarchical clustering\n",
    "def hierarchical_silhouette_score(X, n_clusters):\n",
    "    hierarchical = AgglomerativeClustering(n_clusters=n_clusters)\n",
    "    cluster_labels = hierarchical.fit_predict(X)\n",
    "    silhouette_avg = silhouette_score(X, cluster_labels)\n",
    "    return silhouette_avg\n",
    "\n",
    "\n"
   ]
  },
  {
   "cell_type": "code",
   "execution_count": 3,
   "id": "72d62ee7",
   "metadata": {},
   "outputs": [
    {
     "name": "stdout",
     "output_type": "stream",
     "text": [
      "Silhouette scores for k-means clustering:\n"
     ]
    }
   ],
   "source": [
    "# Evaluate silhouette score for different number of clusters for k-means clustering\n",
    "kmeans_scores = []\n",
    "for n_clusters in range(2, 11):\n",
    "    score = kmeans_silhouette_score(X_scaled, n_clusters)\n",
    "    kmeans_scores.append((n_clusters, score))\n",
    "\n",
    "print(\"Silhouette scores for k-means clustering:\")\n"
   ]
  },
  {
   "cell_type": "code",
   "execution_count": 4,
   "id": "bd500038",
   "metadata": {},
   "outputs": [
    {
     "name": "stdout",
     "output_type": "stream",
     "text": [
      "Number of clusters = 2: Silhouette score = 0.9704551084620618\n",
      "Number of clusters = 3: Silhouette score = 0.9352138557358147\n",
      "Number of clusters = 4: Silhouette score = 0.8094997818495548\n",
      "Number of clusters = 5: Silhouette score = 0.6278668553357658\n",
      "Number of clusters = 6: Silhouette score = 0.5433515387099137\n",
      "Number of clusters = 7: Silhouette score = 0.5715165449471322\n",
      "Number of clusters = 8: Silhouette score = 0.5328216899762243\n",
      "Number of clusters = 9: Silhouette score = 0.5116131488255126\n",
      "Number of clusters = 10: Silhouette score = 0.45688361625709045\n",
      "\n",
      "Silhouette scores for hierarchical clustering:\n"
     ]
    }
   ],
   "source": [
    "for n_clusters, score in kmeans_scores:\n",
    "    print(f\"Number of clusters = {n_clusters}: Silhouette score = {score}\")\n",
    "\n",
    "# Evaluate silhouette score for different number of clusters for hierarchical clustering\n",
    "hierarchical_scores = []\n",
    "for n_clusters in range(2, 11):\n",
    "    score = hierarchical_silhouette_score(X_scaled, n_clusters)\n",
    "    hierarchical_scores.append((n_clusters, score))\n",
    "\n",
    "print(\"\\nSilhouette scores for hierarchical clustering:\")\n"
   ]
  },
  {
   "cell_type": "code",
   "execution_count": 5,
   "id": "7d2b2d5d",
   "metadata": {},
   "outputs": [
    {
     "name": "stdout",
     "output_type": "stream",
     "text": [
      "Number of clusters = 2: Silhouette score = 0.9704551084620618\n",
      "Number of clusters = 3: Silhouette score = 0.9397724938249052\n",
      "Number of clusters = 4: Silhouette score = 0.8044102379581943\n",
      "Number of clusters = 5: Silhouette score = 0.6284416351226025\n",
      "Number of clusters = 6: Silhouette score = 0.6062968538273046\n",
      "Number of clusters = 7: Silhouette score = 0.6073086018490736\n",
      "Number of clusters = 8: Silhouette score = 0.5695716894773587\n",
      "Number of clusters = 9: Silhouette score = 0.42675624225753567\n",
      "Number of clusters = 10: Silhouette score = 0.4384146139814552\n"
     ]
    }
   ],
   "source": [
    "for n_clusters, score in hierarchical_scores:\n",
    "    print(f\"Number of clusters = {n_clusters}: Silhouette score = {score}\")"
   ]
  },
  {
   "cell_type": "code",
   "execution_count": 6,
   "id": "6d726aa7",
   "metadata": {},
   "outputs": [
    {
     "name": "stdout",
     "output_type": "stream",
     "text": [
      "Silhouette scores for k-means clustering:\n",
      "Number of clusters = 2: Silhouette score = 0.9704551084620618\n",
      "Number of clusters = 3: Silhouette score = 0.9352138557358147\n",
      "Number of clusters = 4: Silhouette score = 0.8094997818495548\n",
      "Number of clusters = 5: Silhouette score = 0.6278668553357658\n",
      "Number of clusters = 6: Silhouette score = 0.5433515387099137\n",
      "Number of clusters = 7: Silhouette score = 0.5715165449471322\n",
      "Number of clusters = 8: Silhouette score = 0.5328216899762243\n",
      "Number of clusters = 9: Silhouette score = 0.5116131488255126\n",
      "Number of clusters = 10: Silhouette score = 0.45688361625709045\n",
      "\n",
      "Silhouette scores for hierarchical clustering:\n",
      "Number of clusters = 2: Silhouette score = 0.9704551084620618\n",
      "Number of clusters = 3: Silhouette score = 0.9397724938249052\n",
      "Number of clusters = 4: Silhouette score = 0.8044102379581943\n",
      "Number of clusters = 5: Silhouette score = 0.6284416351226025\n",
      "Number of clusters = 6: Silhouette score = 0.6062968538273046\n",
      "Number of clusters = 7: Silhouette score = 0.6073086018490736\n",
      "Number of clusters = 8: Silhouette score = 0.5695716894773587\n",
      "Number of clusters = 9: Silhouette score = 0.42675624225753567\n",
      "Number of clusters = 10: Silhouette score = 0.4384146139814552\n"
     ]
    }
   ],
   "source": [
    "from sklearn.cluster import KMeans, AgglomerativeClustering\n",
    "from sklearn.metrics import silhouette_score\n",
    "\n",
    "# Define a function to calculate silhouette score for k-means clustering\n",
    "def kmeans_silhouette_score(X, n_clusters):\n",
    "    kmeans = KMeans(n_clusters=n_clusters, random_state=42)\n",
    "    cluster_labels = kmeans.fit_predict(X)\n",
    "    silhouette_avg = silhouette_score(X, cluster_labels)\n",
    "    return silhouette_avg\n",
    "\n",
    "# Define a function to calculate silhouette score for hierarchical clustering\n",
    "def hierarchical_silhouette_score(X, n_clusters):\n",
    "    hierarchical = AgglomerativeClustering(n_clusters=n_clusters)\n",
    "    cluster_labels = hierarchical.fit_predict(X)\n",
    "    silhouette_avg = silhouette_score(X, cluster_labels)\n",
    "    return silhouette_avg\n",
    "\n",
    "# Evaluate silhouette score for different number of clusters for k-means clustering\n",
    "kmeans_scores = []\n",
    "for n_clusters in range(2, 11):\n",
    "    score = kmeans_silhouette_score(X_scaled, n_clusters)\n",
    "    kmeans_scores.append((n_clusters, score))\n",
    "\n",
    "print(\"Silhouette scores for k-means clustering:\")\n",
    "for n_clusters, score in kmeans_scores:\n",
    "    print(f\"Number of clusters = {n_clusters}: Silhouette score = {score}\")\n",
    "\n",
    "# Evaluate silhouette score for different number of clusters for hierarchical clustering\n",
    "hierarchical_scores = []\n",
    "for n_clusters in range(2, 11):\n",
    "    score = hierarchical_silhouette_score(X_scaled, n_clusters)\n",
    "    hierarchical_scores.append((n_clusters, score))\n",
    "\n",
    "print(\"\\nSilhouette scores for hierarchical clustering:\")\n",
    "for n_clusters, score in hierarchical_scores:\n",
    "    print(f\"Number of clusters = {n_clusters}: Silhouette score = {score}\")\n"
   ]
  },
  {
   "cell_type": "code",
   "execution_count": null,
   "id": "027a90d3",
   "metadata": {},
   "outputs": [],
   "source": []
  }
 ],
 "metadata": {
  "kernelspec": {
   "display_name": "Python 3 (ipykernel)",
   "language": "python",
   "name": "python3"
  },
  "language_info": {
   "codemirror_mode": {
    "name": "ipython",
    "version": 3
   },
   "file_extension": ".py",
   "mimetype": "text/x-python",
   "name": "python",
   "nbconvert_exporter": "python",
   "pygments_lexer": "ipython3",
   "version": "3.9.12"
  }
 },
 "nbformat": 4,
 "nbformat_minor": 5
}
